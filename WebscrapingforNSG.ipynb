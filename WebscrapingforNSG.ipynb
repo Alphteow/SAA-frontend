{
 "cells": [
  {
   "attachments": {},
   "cell_type": "markdown",
   "metadata": {},
   "source": [
    "<h1>Web Scraping NSG results</h1>"
   ]
  },
  {
   "attachments": {},
   "cell_type": "markdown",
   "metadata": {},
   "source": [
    "The following lines of code can be used to generate an excel from the tables in the https://dsmr-sports.com/d-sports/list.html website."
   ]
  },
  {
   "cell_type": "code",
   "execution_count": 16,
   "metadata": {},
   "outputs": [
    {
     "name": "stdout",
     "output_type": "stream",
     "text": [
      "High Jump - C DIVISION GIRLS Finals\n"
     ]
    },
    {
     "ename": "ValueError",
     "evalue": "setting an array element with a sequence. The requested array has an inhomogeneous shape after 1 dimensions. The detected shape was (10,) + inhomogeneous part.",
     "output_type": "error",
     "traceback": [
      "\u001b[1;31m---------------------------------------------------------------------------\u001b[0m",
      "\u001b[1;31mValueError\u001b[0m                                Traceback (most recent call last)",
      "Cell \u001b[1;32mIn[16], line 24\u001b[0m\n\u001b[0;32m     21\u001b[0m output_file1 \u001b[39m=\u001b[39m \u001b[39m'\u001b[39m\u001b[39mNSGTest1.xlsx\u001b[39m\u001b[39m'\u001b[39m\n\u001b[0;32m     22\u001b[0m \u001b[39m# output_file2 = 'NSGTest2.xlsx'\u001b[39;00m\n\u001b[0;32m     23\u001b[0m \u001b[39m# output_file3 = 'NSGTest3.xlsx'\u001b[39;00m\n\u001b[1;32m---> 24\u001b[0m pd\u001b[39m.\u001b[39mDataFrame(np\u001b[39m.\u001b[39;49marray(table1))\u001b[39m.\u001b[39mto_excel(output_file1, index\u001b[39m=\u001b[39m\u001b[39mFalse\u001b[39;00m)\n\u001b[0;32m     25\u001b[0m \u001b[39m# pd.DataFrame(table2).to_excel(output_file2, index=False)\u001b[39;00m\n\u001b[0;32m     26\u001b[0m \u001b[39m# pd.DataFrame(table3).to_excel(output_file3, index=False)\u001b[39;00m\n\u001b[0;32m     29\u001b[0m \u001b[39mprint\u001b[39m(\u001b[39mf\u001b[39m\u001b[39m\"\u001b[39m\u001b[39mTable scraped and saved to \u001b[39m\u001b[39m{\u001b[39;00moutput_file1\u001b[39m}\u001b[39;00m\u001b[39m.\u001b[39m\u001b[39m\"\u001b[39m)\n",
      "\u001b[1;31mValueError\u001b[0m: setting an array element with a sequence. The requested array has an inhomogeneous shape after 1 dimensions. The detected shape was (10,) + inhomogeneous part."
     ]
    }
   ],
   "source": [
    "import requests\n",
    "import pandas as pd\n",
    "import numpy as np\n",
    "\n",
    "# Send a GET request to the website\n",
    "url = 'https://dsmr-sports.com/TrackView/session/order/alllistresults.php?competition_id=13&session_id=84'\n",
    "response = requests.get(url)\n",
    "\n",
    "# Read the HTML table into a pandas DataFrame\n",
    "dfs = pd.read_html(response.text)\n",
    "\n",
    "# Get the table of interest\n",
    "print(dfs[1][1][1])\n",
    "table1 = dfs[2::3]  # Assuming the desired table is the first one\n",
    "# table2= dfs[5]\n",
    "# table3= dfs[8]\n",
    "\n",
    "# print(table)\n",
    "\n",
    "# Save the DataFrame to an Excel file\n",
    "output_file1 = 'NSGTest1.xlsx'\n",
    "pd.DataFrame(np.array(table1)).to_excel(output_file1, index=False)\n",
    "\n",
    "\n",
    "print(f\"Table scraped and saved to {output_file1}.\")\n"
   ]
  },
  {
   "cell_type": "code",
   "execution_count": 3,
   "metadata": {},
   "outputs": [
    {
     "name": "stdout",
     "output_type": "stream",
     "text": [
      "Tables extracted from Test.txt and saved to output.xlsx.\n"
     ]
    }
   ],
   "source": [
    "# import pandas as pd\n",
    "\n",
    "# # Read HTML from a text file\n",
    "# file_path = 'Test.txt'\n",
    "# with open(file_path, 'r') as file:\n",
    "#     html_content = file.read()\n",
    "\n",
    "# # Read the HTML tables into a list of pandas DataFrames\n",
    "# dfs = pd.read_html(html_content)\n",
    "\n",
    "# # Save each DataFrame to a separate sheet in an Excel file\n",
    "# output_file = 'output.xlsx'\n",
    "# with pd.ExcelWriter(output_file) as writer:\n",
    "#     for i, df in enumerate(dfs):\n",
    "#         df.to_excel(writer, sheet_name=f'Table{i+1}', index=False)\n",
    "\n",
    "# print(f\"Tables extracted from {file_path} and saved to {output_file}.\")\n"
   ]
  }
 ],
 "metadata": {
  "kernelspec": {
   "display_name": "Python 3",
   "language": "python",
   "name": "python3"
  },
  "language_info": {
   "codemirror_mode": {
    "name": "ipython",
    "version": 3
   },
   "file_extension": ".py",
   "mimetype": "text/x-python",
   "name": "python",
   "nbconvert_exporter": "python",
   "pygments_lexer": "ipython3",
   "version": "3.9.10"
  },
  "orig_nbformat": 4
 },
 "nbformat": 4,
 "nbformat_minor": 2
}
