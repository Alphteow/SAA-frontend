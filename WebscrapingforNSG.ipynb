{
 "cells": [
  {
   "attachments": {},
   "cell_type": "markdown",
   "metadata": {},
   "source": [
    "<h1>Web Scraping NSG results</h1>"
   ]
  },
  {
   "attachments": {},
   "cell_type": "markdown",
   "metadata": {},
   "source": [
    "The following lines of code can be used to generate an excel from the tables in the https://dsmr-sports.com/d-sports/list.html website."
   ]
  },
  {
   "cell_type": "code",
   "execution_count": 45,
   "metadata": {},
   "outputs": [
    {
     "name": "stdout",
     "output_type": "stream",
     "text": [
      "Pole Vault - B DIVISION BOYS Finals\n",
      "Table scraped and saved to NSGTest12A.xlsx.\n"
     ]
    }
   ],
   "source": [
    "import requests\n",
    "import pandas as pd\n",
    "import numpy as np\n",
    "\n",
    "# Send a GET request to the website\n",
    "url = 'https://dsmr-sports.com/TrackView/session/order/alllistresults.php?competition_id=13&session_id=100'\n",
    "output_file1 = f'NSGTest12A.xlsx'\n",
    "response = requests.get(url)\n",
    "\n",
    "# Read the HTML table into a pandas DataFrame\n",
    "dfs = pd.read_html(response.text)\n",
    "\n",
    "# print(dfs[1][1][1])\n",
    "# print(len(dfs))\n",
    "# original=pd.read_excel(\"NSGFiles/NSGTest.xlsx\")\n",
    "table_old=pd.DataFrame({})\n",
    "\n",
    "for i in range(2,len(dfs)+1,3):\n",
    "    # Get the table of interest\n",
    "    print(dfs[i-1][1][1])\n",
    "    table1 = dfs[i]  # Assuming the desired table is the first one\n",
    "    table1=pd.DataFrame(table1)\n",
    "\n",
    "    #Get the Events columns\n",
    "    table1[\"Events\"]=dfs[i-1][1][1]\n",
    "\n",
    "    #concat the new df to old df\n",
    "    table_old = pd.concat([table_old, table1], ignore_index=False)\n",
    "\n",
    "# Save the DataFrame to an Excel file\n",
    "pd.DataFrame(np.array(table_old)).to_excel(f\"NSGFiles/{output_file1}\", index=False)\n",
    "\n",
    "\n",
    "print(f\"Table scraped and saved to {output_file1}.\")\n"
   ]
  },
  {
   "attachments": {},
   "cell_type": "markdown",
   "metadata": {},
   "source": [
    "This line of code will take all the different excel sheets to combine into one excel"
   ]
  },
  {
   "cell_type": "code",
   "execution_count": 3,
   "metadata": {},
   "outputs": [
    {
     "name": "stdout",
     "output_type": "stream",
     "text": [
      "Tables extracted from Test.txt and saved to output.xlsx.\n"
     ]
    }
   ],
   "source": [
    "import os\n",
    "from openpyxl import load_workbook\n",
    "\n",
    "# Folder path containing the Excel files\n",
    "folder_path = 'C:/Users/Singapore Athletic/Desktop/AkidProject/NSGFiles'\n",
    "\n",
    "# Get a list of all Excel files in the folder\n",
    "excel_files = [file for file in os.listdir(folder_path) if file.endswith('.xlsx') or file.endswith('.xls')]\n",
    "\n",
    "# Create a new workbook to store the combined data\n",
    "combined_workbook = load_workbook(filename=os.path.join(folder_path, excel_files[0]))\n",
    "\n",
    "# Iterate over each Excel file (excluding the first one)\n",
    "for file in excel_files[1:]:\n",
    "    # Load the Excel file\n",
    "    file_path = os.path.join(folder_path, file)\n",
    "    workbook = load_workbook(filename=file_path, read_only=True, data_only=True)\n",
    "    \n",
    "    # Iterate over each sheet in the Excel file\n",
    "    for sheet_name in workbook.sheetnames:\n",
    "        sheet = workbook[sheet_name]\n",
    "        \n",
    "        # Iterate over each row in the sheet\n",
    "        for row in sheet.iter_rows(values_only=True):\n",
    "            # Append the row to the combined workbook\n",
    "            combined_workbook[sheet_name].append(row)\n",
    "\n",
    "# Save the combined workbook to a new Excel file\n",
    "output_file = 'combined_data.xlsx'\n",
    "combined_workbook.save(filename=output_file)\n",
    "\n",
    "print(f\"All sheets from the Excel files in the folder have been combined and saved to {output_file}.\")\n"
   ]
  }
 ],
 "metadata": {
  "kernelspec": {
   "display_name": "Python 3",
   "language": "python",
   "name": "python3"
  },
  "language_info": {
   "codemirror_mode": {
    "name": "ipython",
    "version": 3
   },
   "file_extension": ".py",
   "mimetype": "text/x-python",
   "name": "python",
   "nbconvert_exporter": "python",
   "pygments_lexer": "ipython3",
   "version": "3.9.10"
  },
  "orig_nbformat": 4
 },
 "nbformat": 4,
 "nbformat_minor": 2
}
